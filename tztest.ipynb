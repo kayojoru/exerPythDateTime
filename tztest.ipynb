{
 "cells": [
  {
   "cell_type": "code",
   "execution_count": 1,
   "source": [
    "import datetime\n",
    "import pytz\n",
    "\n",
    "dt_utcnow = datetime.datetime.now(tz=pytz.UTC)\n",
    "print(dt_utcnow)\n",
    "\n",
    "dt_mtn = datetime.datetime.now()\n",
    "dt_east = dt_mtn.astimezone(pytz.timezone('US/Eastern'))\n",
    "\n",
    "print(dt_mtn)"
   ],
   "outputs": [
    {
     "output_type": "stream",
     "name": "stdout",
     "text": [
      "2021-09-17 03:16:07.050861+00:00\n",
      "2021-09-16 21:16:07.051394\n"
     ]
    }
   ],
   "metadata": {}
  }
 ],
 "metadata": {
  "orig_nbformat": 4,
  "language_info": {
   "name": "python",
   "version": "3.8.8",
   "mimetype": "text/x-python",
   "codemirror_mode": {
    "name": "ipython",
    "version": 3
   },
   "pygments_lexer": "ipython3",
   "nbconvert_exporter": "python",
   "file_extension": ".py"
  },
  "kernelspec": {
   "name": "python3",
   "display_name": "Python 3.8.8 64-bit ('base': conda)"
  },
  "interpreter": {
   "hash": "b6b651f281809d6f5bb1ebb314364d3970bc3b05c24a509e1dfeed0ec94f0fd7"
  }
 },
 "nbformat": 4,
 "nbformat_minor": 2
}